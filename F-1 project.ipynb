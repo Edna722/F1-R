{
 "cells": [
  {
   "cell_type": "code",
   "execution_count": 5,
   "id": "3a114a2b",
   "metadata": {},
   "outputs": [],
   "source": [
    "import pandas as pd \n",
    "import numpy as np \n",
    "import seaborn as sns \n",
    "import matplotlib.pyplot as plt \n",
    "%matplotlib inline "
   ]
  },
  {
   "cell_type": "code",
   "execution_count": 12,
   "id": "6dbafa35",
   "metadata": {},
   "outputs": [
    {
     "data": {
      "text/plain": [
       "[{'date': '2023-09-15T13:08:19.923000+00:00',\n",
       "  'session_key': 9159,\n",
       "  'meeting_key': 1219,\n",
       "  'driver_number': 55,\n",
       "  'n_gear': 8,\n",
       "  'speed': 315,\n",
       "  'drs': 12,\n",
       "  'throttle': 99,\n",
       "  'brake': 0,\n",
       "  'rpm': 11141},\n",
       " {'date': '2023-09-15T13:35:41.808000+00:00',\n",
       "  'session_key': 9159,\n",
       "  'speed': 315,\n",
       "  'n_gear': 8,\n",
       "  'meeting_key': 1219,\n",
       "  'driver_number': 55,\n",
       "  'drs': 8,\n",
       "  'throttle': 57,\n",
       "  'brake': 100,\n",
       "  'rpm': 11023}]"
      ]
     },
     "execution_count": 12,
     "metadata": {},
     "output_type": "execute_result"
    }
   ],
   "source": [
    "from urllib.request import urlopen\n",
    "import json\n",
    "\n",
    "response = urlopen('https://api.openf1.org/v1/car_data?driver_number=55&session_key=9159&speed>=315')\n",
    "data = json.loads(response.read().decode('utf-8'))\n",
    "data"
   ]
  },
  {
   "cell_type": "code",
   "execution_count": 11,
   "id": "95c9ea1f",
   "metadata": {},
   "outputs": [
    {
     "data": {
      "text/plain": [
       "[{'meeting_key': 1219,\n",
       "  'session_key': 9158,\n",
       "  'driver_number': 1,\n",
       "  'broadcast_name': 'M VERSTAPPEN',\n",
       "  'full_name': 'Max VERSTAPPEN',\n",
       "  'name_acronym': 'VER',\n",
       "  'team_name': 'Red Bull Racing',\n",
       "  'team_colour': '3671C6',\n",
       "  'first_name': 'Max',\n",
       "  'last_name': 'Verstappen',\n",
       "  'headshot_url': 'https://www.formula1.com/content/dam/fom-website/drivers/M/MAXVER01_Max_Verstappen/maxver01.png.transform/1col/image.png',\n",
       "  'country_code': 'NED'}]"
      ]
     },
     "execution_count": 11,
     "metadata": {},
     "output_type": "execute_result"
    }
   ],
   "source": [
    "from urllib.request import urlopen\n",
    "import json\n",
    "\n",
    "response = urlopen('https://api.openf1.org/v1/drivers?driver_number=1&session_key=9158')\n",
    "data = json.loads(response.read().decode('utf-8'))\n",
    "data"
   ]
  },
  {
   "cell_type": "code",
   "execution_count": 9,
   "id": "2ac25054",
   "metadata": {},
   "outputs": [
    {
     "data": {
      "application/vnd.microsoft.datawrangler.viewer.v0+json": {
       "columns": [
        {
         "name": "index",
         "rawType": "int64",
         "type": "integer"
        },
        {
         "name": "date",
         "rawType": "object",
         "type": "string"
        },
        {
         "name": "session_key",
         "rawType": "int64",
         "type": "integer"
        },
        {
         "name": "meeting_key",
         "rawType": "int64",
         "type": "integer"
        },
        {
         "name": "driver_number",
         "rawType": "int64",
         "type": "integer"
        },
        {
         "name": "n_gear",
         "rawType": "int64",
         "type": "integer"
        },
        {
         "name": "speed",
         "rawType": "int64",
         "type": "integer"
        },
        {
         "name": "drs",
         "rawType": "int64",
         "type": "integer"
        },
        {
         "name": "throttle",
         "rawType": "int64",
         "type": "integer"
        },
        {
         "name": "brake",
         "rawType": "int64",
         "type": "integer"
        },
        {
         "name": "rpm",
         "rawType": "int64",
         "type": "integer"
        }
       ],
       "ref": "f7023894-f929-4dcc-adbf-f17b7845ce74",
       "rows": [
        [
         "0",
         "2023-09-15T13:08:19.923000+00:00",
         "9159",
         "1219",
         "55",
         "8",
         "315",
         "12",
         "99",
         "0",
         "11141"
        ],
        [
         "1",
         "2023-09-15T13:35:41.808000+00:00",
         "9159",
         "1219",
         "55",
         "8",
         "315",
         "8",
         "57",
         "100",
         "11023"
        ]
       ],
       "shape": {
        "columns": 10,
        "rows": 2
       }
      },
      "text/html": [
       "<div>\n",
       "<style scoped>\n",
       "    .dataframe tbody tr th:only-of-type {\n",
       "        vertical-align: middle;\n",
       "    }\n",
       "\n",
       "    .dataframe tbody tr th {\n",
       "        vertical-align: top;\n",
       "    }\n",
       "\n",
       "    .dataframe thead th {\n",
       "        text-align: right;\n",
       "    }\n",
       "</style>\n",
       "<table border=\"1\" class=\"dataframe\">\n",
       "  <thead>\n",
       "    <tr style=\"text-align: right;\">\n",
       "      <th></th>\n",
       "      <th>date</th>\n",
       "      <th>session_key</th>\n",
       "      <th>meeting_key</th>\n",
       "      <th>driver_number</th>\n",
       "      <th>n_gear</th>\n",
       "      <th>speed</th>\n",
       "      <th>drs</th>\n",
       "      <th>throttle</th>\n",
       "      <th>brake</th>\n",
       "      <th>rpm</th>\n",
       "    </tr>\n",
       "  </thead>\n",
       "  <tbody>\n",
       "    <tr>\n",
       "      <th>0</th>\n",
       "      <td>2023-09-15T13:08:19.923000+00:00</td>\n",
       "      <td>9159</td>\n",
       "      <td>1219</td>\n",
       "      <td>55</td>\n",
       "      <td>8</td>\n",
       "      <td>315</td>\n",
       "      <td>12</td>\n",
       "      <td>99</td>\n",
       "      <td>0</td>\n",
       "      <td>11141</td>\n",
       "    </tr>\n",
       "    <tr>\n",
       "      <th>1</th>\n",
       "      <td>2023-09-15T13:35:41.808000+00:00</td>\n",
       "      <td>9159</td>\n",
       "      <td>1219</td>\n",
       "      <td>55</td>\n",
       "      <td>8</td>\n",
       "      <td>315</td>\n",
       "      <td>8</td>\n",
       "      <td>57</td>\n",
       "      <td>100</td>\n",
       "      <td>11023</td>\n",
       "    </tr>\n",
       "  </tbody>\n",
       "</table>\n",
       "</div>"
      ],
      "text/plain": [
       "                               date  session_key  meeting_key  driver_number  \\\n",
       "0  2023-09-15T13:08:19.923000+00:00         9159         1219             55   \n",
       "1  2023-09-15T13:35:41.808000+00:00         9159         1219             55   \n",
       "\n",
       "   n_gear  speed  drs  throttle  brake    rpm  \n",
       "0       8    315   12        99      0  11141  \n",
       "1       8    315    8        57    100  11023  "
      ]
     },
     "execution_count": 9,
     "metadata": {},
     "output_type": "execute_result"
    }
   ],
   "source": [
    "df = pd.DataFrame(data)\n",
    "df.head()"
   ]
  },
  {
   "cell_type": "code",
   "execution_count": 14,
   "id": "c72883c2",
   "metadata": {},
   "outputs": [
    {
     "data": {
      "text/plain": [
       "[{'meeting_key': 1219,\n",
       "  'session_key': 9161,\n",
       "  'driver_number': 63,\n",
       "  'lap_number': 8,\n",
       "  'date_start': '2023-09-16T13:59:07.606000+00:00',\n",
       "  'duration_sector_1': 26.966,\n",
       "  'duration_sector_2': 38.657,\n",
       "  'duration_sector_3': 26.12,\n",
       "  'i1_speed': 307,\n",
       "  'i2_speed': 277,\n",
       "  'is_pit_out_lap': False,\n",
       "  'lap_duration': 91.743,\n",
       "  'segments_sector_1': [2049, 2049, 2049, 2051, 2049, 2051, 2049, 2049],\n",
       "  'segments_sector_2': [2049, 2049, 2049, 2049, 2049, 2049, 2049, 2049],\n",
       "  'segments_sector_3': [2049, 2049, 2049, 2049, 2049, 2049, 2049],\n",
       "  'st_speed': 298}]"
      ]
     },
     "execution_count": 14,
     "metadata": {},
     "output_type": "execute_result"
    }
   ],
   "source": [
    "from urllib.request import urlopen\n",
    "import json\n",
    "\n",
    "response = urlopen('https://api.openf1.org/v1/laps?session_key=9161&driver_number=63&lap_number=8')\n",
    "data = json.loads(response.read().decode('utf-8'))\n",
    "data"
   ]
  },
  {
   "cell_type": "code",
   "execution_count": 15,
   "id": "7a5a1857",
   "metadata": {},
   "outputs": [
    {
     "data": {
      "text/plain": [
       "[{'date': '2023-09-16T13:03:35.292000+00:00',\n",
       "  'session_key': 9161,\n",
       "  'z': 187,\n",
       "  'x': 567,\n",
       "  'meeting_key': 1219,\n",
       "  'driver_number': 81,\n",
       "  'y': 3195},\n",
       " {'date': '2023-09-16T13:03:35.752000+00:00',\n",
       "  'session_key': 9161,\n",
       "  'z': 186,\n",
       "  'x': 489,\n",
       "  'meeting_key': 1219,\n",
       "  'driver_number': 81,\n",
       "  'y': 3403}]"
      ]
     },
     "execution_count": 15,
     "metadata": {},
     "output_type": "execute_result"
    }
   ],
   "source": [
    "from urllib.request import urlopen\n",
    "import json\n",
    "\n",
    "response = urlopen('https://api.openf1.org/v1/location?session_key=9161&driver_number=81&date>2023-09-16T13:03:35.200&date<2023-09-16T13:03:35.800')\n",
    "data = json.loads(response.read().decode('utf-8'))\n",
    "data"
   ]
  },
  {
   "cell_type": "code",
   "execution_count": null,
   "id": "e5100388",
   "metadata": {},
   "outputs": [],
   "source": []
  },
  {
   "cell_type": "markdown",
   "id": "846536b3",
   "metadata": {},
   "source": []
  }
 ],
 "metadata": {
  "kernelspec": {
   "display_name": "learn-env",
   "language": "python",
   "name": "python3"
  },
  "language_info": {
   "codemirror_mode": {
    "name": "ipython",
    "version": 3
   },
   "file_extension": ".py",
   "mimetype": "text/x-python",
   "name": "python",
   "nbconvert_exporter": "python",
   "pygments_lexer": "ipython3",
   "version": "3.8.5"
  }
 },
 "nbformat": 4,
 "nbformat_minor": 5
}
